{
 "cells": [
  {
   "cell_type": "markdown",
   "metadata": {},
   "source": [
    "# CNN - LSTM autoencoder model for waveform extraction from O2 noise\n"
   ]
  },
  {
   "cell_type": "markdown",
   "metadata": {},
   "source": [
    "Evaluation of CNN-LSTM denoising autoencoder model on BBH samples injected in real noise alongwith test of robustness against Gaussian and sine-Gaussian glitch injections"
   ]
  },
  {
   "cell_type": "code",
   "execution_count": 1,
   "metadata": {},
   "outputs": [
    {
     "name": "stderr",
     "output_type": "stream",
     "text": [
      "2023-04-04 05:27:49.320740: I tensorflow/core/platform/cpu_feature_guard.cc:193] This TensorFlow binary is optimized with oneAPI Deep Neural Network Library (oneDNN) to use the following CPU instructions in performance-critical operations:  SSE4.1 SSE4.2 AVX AVX2 AVX512F FMA\n",
      "To enable them in other operations, rebuild TensorFlow with the appropriate compiler flags.\n"
     ]
    }
   ],
   "source": [
    "from __future__ import print_function\n",
    "from matplotlib import pyplot as plt\n",
    "plt.switch_backend('agg')\n",
    "%matplotlib inline\n",
    "import numpy as np\n",
    "import pandas as pd\n",
    "\n",
    "from IPython.display import display, HTML\n",
    "import tensorflow as tf\n",
    "import numpy as np\n",
    "import pandas as pd\n",
    "from SampleFileTools1 import SampleFile\n",
    "import random as ran\n",
    "import h5py\n"
   ]
  },
  {
   "cell_type": "markdown",
   "metadata": {},
   "source": [
    "# Load data"
   ]
  },
  {
   "cell_type": "code",
   "execution_count": 163,
   "metadata": {},
   "outputs": [
    {
     "data": {
      "text/plain": [
       "['injection_parameters', 'signals', 'simulation_ranges']"
      ]
     },
     "execution_count": 163,
     "metadata": {},
     "output_type": "execute_result"
    }
   ],
   "source": [
    "f1 = h5py.File('/fred/oz016/denoising/q/100k_q_snr_10-30_4.hdf', 'r')\n",
    "list(f1.keys())\n"
   ]
  },
  {
   "cell_type": "code",
   "execution_count": 164,
   "metadata": {},
   "outputs": [
    {
     "data": {
      "text/plain": [
       "<KeysViewHDF5 ['H1 pure strain', 'H1 strain', 'H1 times', 'L1 pure strain', 'L1 strain', 'L1 times', 'V1 pure strain', 'V1 strain', 'V1 times']>"
      ]
     },
     "execution_count": 164,
     "metadata": {},
     "output_type": "execute_result"
    }
   ],
   "source": [
    "f1['signals'].keys()\n"
   ]
  },
  {
   "cell_type": "code",
   "execution_count": 2,
   "metadata": {},
   "outputs": [],
   "source": [
    "import h5py\n",
    "\n",
    "strains_d = dict()\n",
    "signals_d = dict()\n",
    "f1 = h5py.File('/root/lzd2/Generated-Samples/test/sample2023-04-15-05-41-42.hdf', 'r')\n",
    "# f1 = h5py.File('/root/lzd2/GravitationalWave/BBH_sample_files/default_snr.hdf', 'r')\n",
    "list(f1.keys())\n",
    "strains = []\n",
    "signals = []\n",
    "for det in ['h1','l1','v1']:\n",
    "    strains_d[det] = f1['injection_samples']['{0}_strain'.format(det)][()]\n",
    "    signals_d[det] = f1['injection_parameters']['{0}_signal'.format(det)][()]\n",
    "strains.append(strains_d)\n",
    "signals.append(signals_d)\n",
    "\n",
    "strains = {\n",
    "        'h1':np.concatenate([x['h1'] for x in strains]),\n",
    "        'l1':np.concatenate([x['l1'] for x in strains]),\n",
    "        'v1':np.concatenate([x['v1'] for x in strains])\n",
    "    }\n",
    "\n",
    "signals = {\n",
    "        'h1':np.concatenate([x['h1'] for x in signals]),\n",
    "        'l1':np.concatenate([x['l1'] for x in signals]),\n",
    "        'v1':np.concatenate([x['v1'] for x in signals])\n",
    "    }\n"
   ]
  },
  {
   "cell_type": "code",
   "execution_count": 3,
   "metadata": {},
   "outputs": [],
   "source": [
    "f1.close()\n"
   ]
  },
  {
   "cell_type": "markdown",
   "metadata": {},
   "source": [
    "# Normalize data"
   ]
  },
  {
   "cell_type": "code",
   "execution_count": 4,
   "metadata": {},
   "outputs": [],
   "source": [
    "def normalize_test(a):\n",
    "    new_array = []\n",
    "    for i in range(100000):\n",
    "        dataset = a[i]\n",
    "#        dataset = dataset[1536:2048]\n",
    "        maximum = np.max(dataset)\n",
    "        minimum = np.abs(np.min(dataset))\n",
    "        for j in range(512):\n",
    "            if(dataset[j] > 0):\n",
    "                dataset[j] = dataset[j]/maximum\n",
    "            else:\n",
    "                dataset[j] = dataset[j]/minimum\n",
    "#        dataset = dataset+gauss\n",
    "        new_array.append(dataset)\n",
    "    return new_array\n",
    "\n",
    "l1_test_new = normalize_test(strains['l1'])\n",
    "\n",
    "#h1_pure_new = normalize_new(h1_pure_new)\n",
    "l1_test_pure_new = normalize_test(signals['l1'])\n"
   ]
  },
  {
   "cell_type": "markdown",
   "metadata": {},
   "source": [
    "# Reshape data into sub-sequences"
   ]
  },
  {
   "cell_type": "code",
   "execution_count": 5,
   "metadata": {},
   "outputs": [],
   "source": [
    "from numpy import array\n",
    "# split a univariate sequence into samples\n",
    "def split_sequence(sequence_noisy,sequence_pure,n_steps):\n",
    "    X, y = list(), list()\n",
    "    for i in range(len(sequence_noisy)):\n",
    "        # find the end of this pattern\n",
    "        end_ix = i + n_steps\n",
    "        # check if we are beyond the sequence\n",
    "        if end_ix > len(sequence_noisy)-1:\n",
    "            break\n",
    "        # gather input and output parts of the pattern\n",
    "        seq_x, seq_y = sequence_noisy[i:end_ix], sequence_pure[end_ix]\n",
    "        X.append(seq_x)\n",
    "        y.append(seq_y)\n",
    "    return array(X), array(y)\n",
    "\n",
    "\n",
    "# choose a number of time steps\n",
    "n_steps = 4\n",
    "X_test_noisy = []\n",
    "X_test_pure = []\n",
    "\n",
    "for i in range(100000):\n",
    "    # TODO: 原来这里是h1_test_new\n",
    "    X_noisy = l1_test_new[i]\n",
    "    X_pure = l1_test_pure_new[i]\n",
    "    X_noisy = np.pad(X_noisy, (4, 4), 'constant', constant_values=(0, 0))\n",
    "    X_pure = np.pad(X_pure, (4, 4), 'constant', constant_values=(0, 0))\n",
    "    # split into samples\n",
    "    X, y = split_sequence(X_noisy, X_pure, n_steps)\n",
    "    X_test_noisy.append(X)\n",
    "    X_test_pure.append(y)\n",
    "    \n",
    "X_test_noisy = np.asarray(X_test_noisy)\n",
    "X_test_pure = np.asarray(X_test_pure)\n"
   ]
  },
  {
   "cell_type": "code",
   "execution_count": 6,
   "metadata": {},
   "outputs": [
    {
     "name": "stdout",
     "output_type": "stream",
     "text": [
      "x_test_noisy shape:  (100000, 516, 4)\n",
      "x_test_pure shape:  (100000, 516)\n",
      "x_test_noisy shape: (100000, 516, 4)\n",
      "input_shape: 4\n",
      "x_test_pure shape: (100000, 516, 1)\n",
      "input_shape: 4\n"
     ]
    }
   ],
   "source": [
    "print('x_test_noisy shape: ', X_test_noisy.shape)\n",
    "print('x_test_pure shape: ', X_test_pure.shape)\n",
    "\n",
    "num_time_periods, num_detectors = 4, 1\n",
    "\n",
    "input_shape = (num_time_periods*num_detectors)\n",
    "\n",
    "X_test_noisy = X_test_noisy.reshape(X_test_noisy.shape[0], 516, input_shape)\n",
    "X_test_pure = X_test_pure.reshape(X_test_pure.shape[0], 516, 1)\n",
    "\n",
    "print('x_test_noisy shape:', X_test_noisy.shape)\n",
    "print('input_shape:', input_shape)\n",
    "\n",
    "print('x_test_pure shape:', X_test_pure.shape)\n",
    "print('input_shape:', input_shape)\n",
    "\n",
    "X_test_noisy = X_test_noisy.astype(\"float32\")\n",
    "X_test_pure = X_test_pure.astype(\"float32\")\n"
   ]
  },
  {
   "cell_type": "markdown",
   "metadata": {},
   "source": [
    "# FracTAL Tanimoto loss function"
   ]
  },
  {
   "cell_type": "code",
   "execution_count": 7,
   "metadata": {},
   "outputs": [],
   "source": [
    "#from keras import backend as K\n",
    "def fractal_tanimoto_loss(y_true, y_pred, depth=0, smooth=1e-6):\n",
    "    x = y_true\n",
    "    y = y_pred\n",
    "#    x_norm = K.sum(x)\n",
    "#    y_norm = K.sum(y)\n",
    "#    x = x/x_norm\n",
    "#    y = y/y_norm\n",
    "    depth = depth+1\n",
    "    scale = 1./len(range(depth))\n",
    "    \n",
    "    def inner_prod(y, x):\n",
    "        prod = y*x\n",
    "        prod = tf.math.reduce_sum(prod, axis=1)\n",
    "        \n",
    "        return prod\n",
    "    \n",
    "    def tnmt_base(x, y):\n",
    "\n",
    "        tpl  = inner_prod(y,x)\n",
    "        tpp  = inner_prod(y,y)\n",
    "        tll  = inner_prod(x,x)\n",
    "\n",
    "\n",
    "        num = tpl + smooth\n",
    "        denum = 0.0\n",
    "        result = 0.0\n",
    "        for d in range(depth):\n",
    "            a = 2.**d\n",
    "            b = -(2.*a-1.)\n",
    "\n",
    "            denum = denum + tf.math.reciprocal( a*(tpp+tll) + b *tpl + smooth)\n",
    "#            denum = ( a*(tpp+tll) + b *tpl + smooth)\n",
    "#            result = tf.math.reduce_mean((result + (num/denum)), axis=0)\n",
    "\n",
    "        result =  num * denum * scale\n",
    "#        result = result\n",
    "        return  result*scale\n",
    "    \n",
    "    \n",
    "    l1 = tnmt_base(x,y)\n",
    "#        l2 = self.tnmt_base(1.-preds, 1.-labels)\n",
    "\n",
    "#        result = 0.5*(l1+l2)\n",
    "    result = l1\n",
    "    \n",
    "    return  1. - result\n"
   ]
  },
  {
   "cell_type": "markdown",
   "metadata": {},
   "source": [
    "# Load trained model"
   ]
  },
  {
   "cell_type": "code",
   "execution_count": 8,
   "metadata": {},
   "outputs": [
    {
     "name": "stderr",
     "output_type": "stream",
     "text": [
      "2023-04-04 05:39:55.368930: I tensorflow/core/platform/cpu_feature_guard.cc:193] This TensorFlow binary is optimized with oneAPI Deep Neural Network Library (oneDNN) to use the following CPU instructions in performance-critical operations:  SSE4.1 SSE4.2 AVX AVX2 AVX512F FMA\n",
      "To enable them in other operations, rebuild TensorFlow with the appropriate compiler flags.\n",
      "2023-04-04 05:40:00.038130: I tensorflow/core/common_runtime/gpu/gpu_device.cc:1613] Created device /job:localhost/replica:0/task:0/device:GPU:0 with 13593 MB memory:  -> device: 0, name: NVIDIA GeForce RTX 3090, pci bus id: 0000:65:00.0, compute capability: 8.6\n"
     ]
    },
    {
     "name": "stdout",
     "output_type": "stream",
     "text": [
      "Model: \"sequential\"\n",
      "_________________________________________________________________\n",
      " Layer (type)                Output Shape              Param #   \n",
      "=================================================================\n",
      " time_distributed (TimeDistr  (None, 516, 4, 32)       64        \n",
      " ibuted)                                                         \n",
      "                                                                 \n",
      " time_distributed_1 (TimeDis  (None, 516, 4, 32)       0         \n",
      " tributed)                                                       \n",
      "                                                                 \n",
      " time_distributed_2 (TimeDis  (None, 516, 2, 32)       0         \n",
      " tributed)                                                       \n",
      "                                                                 \n",
      " time_distributed_3 (TimeDis  (None, 516, 2, 16)       528       \n",
      " tributed)                                                       \n",
      "                                                                 \n",
      " time_distributed_4 (TimeDis  (None, 516, 2, 16)       0         \n",
      " tributed)                                                       \n",
      "                                                                 \n",
      " time_distributed_5 (TimeDis  (None, 516, 32)          0         \n",
      " tributed)                                                       \n",
      "                                                                 \n",
      " bidirectional (Bidirectiona  (None, 516, 100)         33200     \n",
      " l)                                                              \n",
      "                                                                 \n",
      " bidirectional_1 (Bidirectio  (None, 516, 100)         60400     \n",
      " nal)                                                            \n",
      "                                                                 \n",
      " bidirectional_2 (Bidirectio  (None, 516, 100)         60400     \n",
      " nal)                                                            \n",
      "                                                                 \n",
      " time_distributed_6 (TimeDis  (None, 516, 1)           101       \n",
      " tributed)                                                       \n",
      "                                                                 \n",
      "=================================================================\n",
      "Total params: 154,693\n",
      "Trainable params: 154,693\n",
      "Non-trainable params: 0\n",
      "_________________________________________________________________\n"
     ]
    }
   ],
   "source": [
    "#from keras.models import load_model\n",
    " \n",
    "# load model\n",
    "model = tf.keras.models.load_model('/root/lzd2/GravitationalWave/BBH_sample_files/trained_model.h5', custom_objects={'fractal_tanimoto_loss': fractal_tanimoto_loss})\n",
    "# summarize model.\n",
    "model.summary()\n"
   ]
  },
  {
   "cell_type": "markdown",
   "metadata": {},
   "source": [
    "# Obtain predictions on test data"
   ]
  },
  {
   "cell_type": "code",
   "execution_count": 9,
   "metadata": {},
   "outputs": [
    {
     "name": "stderr",
     "output_type": "stream",
     "text": [
      "2023-04-04 05:40:22.091360: I tensorflow/compiler/xla/stream_executor/cuda/cuda_dnn.cc:428] Loaded cuDNN version 8401\n"
     ]
    },
    {
     "name": "stdout",
     "output_type": "stream",
     "text": [
      "50/50 [==============================] - 34s 223ms/step\n",
      "WARNING:tensorflow:From /root/lzd2/miniconda3/envs/FinalGW/lib/python3.10/site-packages/tensorflow/python/autograph/pyct/static_analysis/liveness.py:83: Analyzer.lamba_check (from tensorflow.python.autograph.pyct.static_analysis.liveness) is deprecated and will be removed after 2023-09-23.\n",
      "Instructions for updating:\n",
      "Lambda fuctions will be no more assumed to be used in the statement where they are used, or at least in the same block. https://github.com/tensorflow/tensorflow/issues/56089\n",
      "50/50 [==============================] - 14s 229ms/step - loss: 0.1620 - accuracy: 0.0096\n",
      "\n",
      "Accuracy on test data: 0.01\n",
      "\n",
      "Loss on test data: 0.16\n"
     ]
    }
   ],
   "source": [
    "decoded_signals = model.predict(X_test_noisy, batch_size=2000)\n",
    "\n",
    "score = model.evaluate(X_test_noisy, X_test_pure, verbose=1, batch_size=2000)\n",
    "\n",
    "print('\\nAccuracy on test data: %0.2f' % score[1])\n",
    "print('\\nLoss on test data: %0.2f' % score[0])\n"
   ]
  },
  {
   "cell_type": "markdown",
   "metadata": {},
   "source": [
    "# Plot test sample"
   ]
  },
  {
   "cell_type": "code",
   "execution_count": 10,
   "metadata": {},
   "outputs": [
    {
     "data": {
      "text/plain": [
       "[<matplotlib.lines.Line2D at 0x7fc53cb42e00>]"
      ]
     },
     "execution_count": 10,
     "metadata": {},
     "output_type": "execute_result"
    },
    {
     "data": {
      "image/png": "[encoded data removed]",
      "text/plain": [
       "<Figure size 640x480 with 1 Axes>"
      ]
     },
     "metadata": {},
     "output_type": "display_data"
    }
   ],
   "source": [
    "plt.plot(X_test_pure[0])\n",
    "plt.plot(decoded_signals[0])\n"
   ]
  },
  {
   "cell_type": "code",
   "execution_count": null,
   "metadata": {},
   "outputs": [],
   "source": []
  },
  {
   "cell_type": "code",
   "execution_count": null,
   "metadata": {},
   "outputs": [],
   "source": []
  },
  {
   "cell_type": "code",
   "execution_count": null,
   "metadata": {},
   "outputs": [],
   "source": []
  },
  {
   "cell_type": "code",
   "execution_count": null,
   "metadata": {},
   "outputs": [],
   "source": []
  },
  {
   "cell_type": "code",
   "execution_count": null,
   "metadata": {},
   "outputs": [],
   "source": []
  },
  {
   "cell_type": "code",
   "execution_count": null,
   "metadata": {},
   "outputs": [],
   "source": []
  },
  {
   "cell_type": "code",
   "execution_count": null,
   "metadata": {},
   "outputs": [],
   "source": []
  },
  {
   "cell_type": "code",
   "execution_count": null,
   "metadata": {},
   "outputs": [],
   "source": []
  },
  {
   "cell_type": "code",
   "execution_count": null,
   "metadata": {},
   "outputs": [],
   "source": []
  }
 ],
 "metadata": {
  "kernelspec": {
   "display_name": "Python 3",
   "language": "python",
   "name": "python3"
  },
  "language_info": {
   "codemirror_mode": {
    "name": "ipython",
    "version": 3
   },
   "file_extension": ".py",
   "mimetype": "text/x-python",
   "name": "python",
   "nbconvert_exporter": "python",
   "pygments_lexer": "ipython3",
   "version": "3.10.10"
  }
 },
 "nbformat": 4,
 "nbformat_minor": 2
}
